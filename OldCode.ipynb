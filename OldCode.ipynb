{
 "cells": [
  {
   "cell_type": "markdown",
   "metadata": {},
   "source": [
    "### Old Code that I don't trust myself to throw away"
   ]
  },
  {
   "cell_type": "code",
   "execution_count": null,
   "metadata": {},
   "outputs": [],
   "source": [
    "# This part of the code is deprecated and not needed anymore, I will keep it here for refernece\n",
    "# it was used to go step by step to look at how exactly the loss behaves while training\n",
    "\n",
    "tf.config.run_functions_eagerly(True)\n",
    "tf.random.set_seed(42)\n",
    "np.random.seed(42)\n",
    "\n",
    "step_counter = 0\n",
    "for i in range(1):\n",
    "  cur_x_log, cur_loss, grads, loss_log = test_full_step(step_counter)\n",
    "  step_counter += 1\n",
    "  print(f\"{step_counter}: cur loss:\", cur_loss)"
   ]
  },
  {
   "cell_type": "code",
   "execution_count": null,
   "metadata": {},
   "outputs": [],
   "source": [
    "cur_x_log, cur_loss, grads, loss_log = test_full_step(step_counter)\n",
    "step_counter += 1\n",
    "print(f\"{step_counter}: cur loss:\", cur_loss)"
   ]
  },
  {
   "cell_type": "code",
   "execution_count": null,
   "metadata": {},
   "outputs": [],
   "source": [
    "# plotting those results, should also be easily possible with display.plot_min_max_mean\n",
    "\n",
    "fig = go.Figure()\n",
    "maxs = []\n",
    "mins = []\n",
    "means = []\n",
    "for i in range(len(cur_x_log)):\n",
    "  maxs.append(np.amax(cur_x_log[i]))\n",
    "  mins.append(np.amin(cur_x_log[i]))\n",
    "  means.append(np.mean(cur_x_log[i]))\n",
    "  \n",
    "plot = px.scatter(y=loss_log)\n",
    "plot.show()\n",
    "# vis.plotlyplot(plot)\n",
    "\n",
    "plot2 = go.Scatter(y=maxs, name=\"maxs\")\n",
    "plot3 = go.Scatter(y=mins, name=\"mins\")\n",
    "plot4 = go.Scatter(y=means, name=\"means\")\n",
    "\n",
    "fig.add_traces([plot2, plot3, plot4])\n",
    "fig.show()\n",
    "# print(cur_x_log[0].shape)\n",
    "# loss_np\n",
    "# fig = px.scatter(loss_np)\n",
    "# fig.show()\n"
   ]
  },
  {
   "cell_type": "code",
   "execution_count": null,
   "metadata": {},
   "outputs": [],
   "source": [
    "from plotly.subplots import make_subplots\n",
    " \n",
    "# this plots the input layers, might be needed again, but has some refernces that make\n",
    "# it harder to fully remove from a notebook\n",
    "\n",
    "def plot_input_layer(step, batch):\n",
    "  # x expected shape: 40,40,16\n",
    "  fig = make_subplots(rows=4, cols=4)\n",
    "  x = cur_x_log[step][batch]\n",
    "  \n",
    "  for i in range(1,5):\n",
    "    for j in range(1,5):\n",
    "      cur_img = x[:,:,i]\n",
    "      title = f\"max:{np.amax(cur_img):.4f} min:{np.amin(cur_img):.4f} mean:{np.mean(cur_img):.4f}\"\n",
    "      plot = px.imshow(cur_img, labels=dict(x=title))\n",
    "      \n",
    "      fig.add_traces(plot.data, rows=i, cols=j)\n",
    "      # plt.title(f\"max:{np.amax(x[:,:,i]):.4f} min:{np.amin(x[:,:,i]):.4f} mean:{np.mean(x[:,:,i]):.4f}\")\n",
    "  # fig.update_layout(coloraxis_showscale=False)\n",
    "  fig.update_layout(title=f\"Step:{step}, Batch:{batch}\")\n",
    "  fig.show()\n",
    "  "
   ]
  },
  {
   "cell_type": "code",
   "execution_count": null,
   "metadata": {},
   "outputs": [],
   "source": [
    "import plotly.io as pio\n",
    "pio.renderers.default = \"browser\"\n",
    "plot_input_layer(50, 0)"
   ]
  }
 ],
 "metadata": {
  "kernelspec": {
   "display_name": "SoS",
   "language": "python",
   "name": "sos"
  },
  "language_info": {
   "codemirror_mode": {
    "name": "ipython",
    "version": 3
   },
   "file_extension": ".py",
   "mimetype": "text/x-python",
   "name": "python",
   "nbconvert_exporter": "python",
   "pygments_lexer": "ipython3",
   "version": "3.8.5"
  }
 },
 "nbformat": 4,
 "nbformat_minor": 2
}
